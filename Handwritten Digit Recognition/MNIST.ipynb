{
  "nbformat": 4,
  "nbformat_minor": 0,
  "metadata": {
    "colab": {
      "name": "MNIST",
      "version": "0.3.2",
      "provenance": [],
      "collapsed_sections": []
    },
    "kernelspec": {
      "name": "python3",
      "display_name": "Python 3"
    }
  },
  "cells": [
    {
      "cell_type": "code",
      "metadata": {
        "id": "fubJAbP7PS-K",
        "colab_type": "code",
        "colab": {}
      },
      "source": [
        "import tensorflow as tf\n",
        "import matplotlib.pyplot as plt\n",
        "%matplotlib inline"
      ],
      "execution_count": 0,
      "outputs": []
    },
    {
      "cell_type": "code",
      "metadata": {
        "id": "p7ieDx1GPlZS",
        "colab_type": "code",
        "outputId": "604e1499-edc5-430e-9ef0-5975513c39c5",
        "colab": {
          "base_uri": "https://localhost:8080/",
          "height": 85
        }
      },
      "source": [
        "#Getting the Data\n",
        "from tensorflow.examples.tutorials.mnist import input_data\n",
        "mnist = input_data.read_data_sets(\"/tmp/data/\",one_hot=True)"
      ],
      "execution_count": 4,
      "outputs": [
        {
          "output_type": "stream",
          "text": [
            "Extracting /tmp/data/train-images-idx3-ubyte.gz\n",
            "Extracting /tmp/data/train-labels-idx1-ubyte.gz\n",
            "Extracting /tmp/data/t10k-images-idx3-ubyte.gz\n",
            "Extracting /tmp/data/t10k-labels-idx1-ubyte.gz\n"
          ],
          "name": "stdout"
        }
      ]
    },
    {
      "cell_type": "code",
      "metadata": {
        "id": "7KEtqsGOSLJ0",
        "colab_type": "code",
        "outputId": "bd2d5cd5-c479-4b8c-999c-90a7c27eb342",
        "colab": {
          "base_uri": "https://localhost:8080/",
          "height": 34
        }
      },
      "source": [
        "type(mnist)"
      ],
      "execution_count": 5,
      "outputs": [
        {
          "output_type": "execute_result",
          "data": {
            "text/plain": [
              "tensorflow.contrib.learn.python.learn.datasets.base.Datasets"
            ]
          },
          "metadata": {
            "tags": []
          },
          "execution_count": 5
        }
      ]
    },
    {
      "cell_type": "code",
      "metadata": {
        "id": "xMlnU35HS63K",
        "colab_type": "code",
        "outputId": "70cb2bc1-c88b-4867-a505-f267e743d089",
        "colab": {
          "base_uri": "https://localhost:8080/",
          "height": 34
        }
      },
      "source": [
        "type(mnist.train.images)"
      ],
      "execution_count": 6,
      "outputs": [
        {
          "output_type": "execute_result",
          "data": {
            "text/plain": [
              "numpy.ndarray"
            ]
          },
          "metadata": {
            "tags": []
          },
          "execution_count": 6
        }
      ]
    },
    {
      "cell_type": "code",
      "metadata": {
        "id": "sjkWEQ4RY7k2",
        "colab_type": "code",
        "outputId": "c2978c40-8f3f-4c71-b14c-2be4bbdfa325",
        "colab": {
          "base_uri": "https://localhost:8080/",
          "height": 34
        }
      },
      "source": [
        "mnist.train.images.shape"
      ],
      "execution_count": 7,
      "outputs": [
        {
          "output_type": "execute_result",
          "data": {
            "text/plain": [
              "(55000, 784)"
            ]
          },
          "metadata": {
            "tags": []
          },
          "execution_count": 7
        }
      ]
    },
    {
      "cell_type": "code",
      "metadata": {
        "id": "LU3G9CF7S_Wg",
        "colab_type": "code",
        "outputId": "38b302fa-89f2-443b-a371-b3064b472b79",
        "colab": {
          "base_uri": "https://localhost:8080/",
          "height": 34
        }
      },
      "source": [
        "mnist.train.images[2034].shape"
      ],
      "execution_count": 8,
      "outputs": [
        {
          "output_type": "execute_result",
          "data": {
            "text/plain": [
              "(784,)"
            ]
          },
          "metadata": {
            "tags": []
          },
          "execution_count": 8
        }
      ]
    },
    {
      "cell_type": "code",
      "metadata": {
        "id": "JOzN2zC_TDdQ",
        "colab_type": "code",
        "colab": {}
      },
      "source": [
        "sample = mnist.train.images[2034].reshape(28,28)"
      ],
      "execution_count": 0,
      "outputs": []
    },
    {
      "cell_type": "code",
      "metadata": {
        "id": "RNEO9TeWTdJN",
        "colab_type": "code",
        "outputId": "a67176f2-72c1-48b4-cb52-759e5ddebdfc",
        "colab": {
          "base_uri": "https://localhost:8080/",
          "height": 34
        }
      },
      "source": [
        "sample.shape"
      ],
      "execution_count": 10,
      "outputs": [
        {
          "output_type": "execute_result",
          "data": {
            "text/plain": [
              "(28, 28)"
            ]
          },
          "metadata": {
            "tags": []
          },
          "execution_count": 10
        }
      ]
    },
    {
      "cell_type": "code",
      "metadata": {
        "id": "jTA_z-aXTkTp",
        "colab_type": "code",
        "outputId": "97e6a43e-daaf-4acd-b75e-9713976e58e0",
        "colab": {
          "base_uri": "https://localhost:8080/",
          "height": 286
        }
      },
      "source": [
        "plt.imshow(sample,cmap='Greys')"
      ],
      "execution_count": 11,
      "outputs": [
        {
          "output_type": "execute_result",
          "data": {
            "text/plain": [
              "<matplotlib.image.AxesImage at 0x7fbbc29c7940>"
            ]
          },
          "metadata": {
            "tags": []
          },
          "execution_count": 11
        },
        {
          "output_type": "display_data",
          "data": {
            "image/png": "[encoded data removed]",
            "text/plain": [
              "<Figure size 432x288 with 1 Axes>"
            ]
          },
          "metadata": {
            "tags": []
          }
        }
      ]
    },
    {
      "cell_type": "code",
      "metadata": {
        "id": "x27xU530T0hI",
        "colab_type": "code",
        "colab": {}
      },
      "source": [
        "#Basic Parameters\n",
        "learning_rate = 0.001\n",
        "training_epochs = 15   #No. of training cycles\n",
        "batch_size = 100       #Size"
      ],
      "execution_count": 0,
      "outputs": []
    },
    {
      "cell_type": "code",
      "metadata": {
        "id": "VRJUmLaYVQYl",
        "colab_type": "code",
        "colab": {}
      },
      "source": [
        "#Networking Parameters(which determine how our neural network looks like)\n",
        "n_classes=10\n",
        "n_samples=mnist.train.num_examples\n",
        "n_input=784\n",
        "n_hidden_1=256\n",
        "n_hidden_2=256"
      ],
      "execution_count": 0,
      "outputs": []
    },
    {
      "cell_type": "code",
      "metadata": {
        "id": "RvjMXAEAYQ2h",
        "colab_type": "code",
        "colab": {}
      },
      "source": [
        "def multilayer_perceptron(x, weights, biases):\n",
        "    '''\n",
        "    x : Place Holder for Data Input\n",
        "    weights: Dictionary of weights\n",
        "    biases: Dicitionary of biases\n",
        "    '''\n",
        "    \n",
        "    # First Hidden layer with RELU activation\n",
        "    #f(x) = (x * w) + b\n",
        "    layer_1 = tf.add(tf.matmul(x, weights['h1']), biases['b1'])\n",
        "    layer_1 = tf.nn.relu(layer_1)\n",
        "    \n",
        "    # Second Hidden layer with RELU activation\n",
        "    #f(x) = (layer_1 * w) + b\n",
        "    layer_2 = tf.add(tf.matmul(layer_1, weights['h2']), biases['b2'])\n",
        "    layer_2 = tf.nn.relu(layer_2)\n",
        "    \n",
        "    # Last Output layer with linear activation\n",
        "    out_layer = tf.matmul(layer_2, weights['out']) + biases['out']\n",
        "    return out_layer"
      ],
      "execution_count": 0,
      "outputs": []
    },
    {
      "cell_type": "code",
      "metadata": {
        "id": "2xV9y7SflL6l",
        "colab_type": "code",
        "colab": {}
      },
      "source": [
        "weights = {\n",
        "    'h1': tf.Variable(tf.random_normal([n_input, n_hidden_1])),\n",
        "    'h2': tf.Variable(tf.random_normal([n_hidden_1, n_hidden_2])),\n",
        "    'out': tf.Variable(tf.random_normal([n_hidden_2, n_classes]))\n",
        "}"
      ],
      "execution_count": 0,
      "outputs": []
    },
    {
      "cell_type": "code",
      "metadata": {
        "id": "bIQZBcTElRwp",
        "colab_type": "code",
        "colab": {}
      },
      "source": [
        "biases = {\n",
        "    'b1': tf.Variable(tf.random_normal([n_hidden_1])),\n",
        "    'b2': tf.Variable(tf.random_normal([n_hidden_2])),\n",
        "    'out': tf.Variable(tf.random_normal([n_classes]))\n",
        "}"
      ],
      "execution_count": 0,
      "outputs": []
    },
    {
      "cell_type": "code",
      "metadata": {
        "id": "EHLhnB99lUVn",
        "colab_type": "code",
        "colab": {}
      },
      "source": [
        "x = tf.placeholder(\"float\", [None, n_input])\n",
        "y = tf.placeholder(\"float\", [None, n_classes])"
      ],
      "execution_count": 0,
      "outputs": []
    },
    {
      "cell_type": "code",
      "metadata": {
        "id": "vPbMKUCBlh-7",
        "colab_type": "code",
        "colab": {}
      },
      "source": [
        "pred = multilayer_perceptron(x, weights, biases)"
      ],
      "execution_count": 0,
      "outputs": []
    },
    {
      "cell_type": "code",
      "metadata": {
        "id": "nePEogCnlc7T",
        "colab_type": "code",
        "colab": {}
      },
      "source": [
        "cost = tf.reduce_mean(tf.nn.softmax_cross_entropy_with_logits(logits=pred,labels= y))\n",
        "optimizer = tf.train.AdamOptimizer(learning_rate=learning_rate).minimize(cost)"
      ],
      "execution_count": 0,
      "outputs": []
    },
    {
      "cell_type": "code",
      "metadata": {
        "id": "wHsylRhyminD",
        "colab_type": "code",
        "colab": {}
      },
      "source": [
        "# Initializing the variables\n",
        "init = tf.initialize_all_variables()"
      ],
      "execution_count": 0,
      "outputs": []
    },
    {
      "cell_type": "markdown",
      "metadata": {
        "id": "qrxD9HeDQtM3",
        "colab_type": "text"
      },
      "source": [
        "## Training the model"
      ]
    },
    {
      "cell_type": "code",
      "metadata": {
        "id": "NTIB8HTqmwIE",
        "colab_type": "code",
        "colab": {}
      },
      "source": [
        "Xsamp,ysamp = mnist.train.next_batch(1)"
      ],
      "execution_count": 0,
      "outputs": []
    },
    {
      "cell_type": "code",
      "metadata": {
        "id": "m7_nQxCAFj33",
        "colab_type": "code",
        "colab": {
          "base_uri": "https://localhost:8080/",
          "height": 286
        },
        "outputId": "21676242-a2b1-4dde-ef95-d58e4b450afb"
      },
      "source": [
        "plt.imshow(Xsamp.reshape(28,28),cmap='Greys')"
      ],
      "execution_count": 24,
      "outputs": [
        {
          "output_type": "execute_result",
          "data": {
            "text/plain": [
              "<matplotlib.image.AxesImage at 0x7fbbbf15f438>"
            ]
          },
          "metadata": {
            "tags": []
          },
          "execution_count": 24
        },
        {
          "output_type": "display_data",
          "data": {
            "image/png": "[encoded data removed]",
            "text/plain": [
              "<Figure size 432x288 with 1 Axes>"
            ]
          },
          "metadata": {
            "tags": []
          }
        }
      ]
    },
    {
      "cell_type": "code",
      "metadata": {
        "id": "u6R-wpLfFoZ6",
        "colab_type": "code",
        "colab": {
          "base_uri": "https://localhost:8080/",
          "height": 34
        },
        "outputId": "82f0ded8-6410-4128-9475-526559efba86"
      },
      "source": [
        "print(ysamp)"
      ],
      "execution_count": 25,
      "outputs": [
        {
          "output_type": "stream",
          "text": [
            "[[0. 0. 0. 0. 0. 0. 0. 0. 0. 1.]]\n"
          ],
          "name": "stdout"
        }
      ]
    },
    {
      "cell_type": "markdown",
      "metadata": {
        "id": "vheIzPljFvis",
        "colab_type": "text"
      },
      "source": [
        "## Running the session"
      ]
    },
    {
      "cell_type": "code",
      "metadata": {
        "id": "7JFSQ49ZFtrD",
        "colab_type": "code",
        "colab": {
          "base_uri": "https://localhost:8080/",
          "height": 289
        },
        "outputId": "a6c3557d-2661-48ca-9ac6-12facd135798"
      },
      "source": [
        "# Launch the session\n",
        "sess = tf.InteractiveSession()\n",
        "\n",
        "# Intialize all the variables\n",
        "sess.run(init)\n",
        "\n",
        "# Training Epochs\n",
        "# Essentially the max amount of loops possible before we stop\n",
        "# May stop earlier if cost/loss limit was set\n",
        "for epoch in range(training_epochs):\n",
        "\n",
        "    # Start with cost = 0.0\n",
        "    avg_cost = 0.0\n",
        "\n",
        "    # Convert total number of batches to integer\n",
        "    total_batch = int(n_samples/batch_size)\n",
        "\n",
        "    # Loop over all batches\n",
        "    for i in range(total_batch):\n",
        "\n",
        "        # Grab the next batch of training data and labels\n",
        "        batch_x, batch_y = mnist.train.next_batch(batch_size)\n",
        "\n",
        "        # Feed dictionary for optimization and loss value\n",
        "        # Returns a tuple, but we only need 'c' the cost\n",
        "        # So we set an underscore as a \"throwaway\"\n",
        "        _, c = sess.run([optimizer, cost], feed_dict={x: batch_x, y: batch_y})\n",
        "\n",
        "        # Compute average loss\n",
        "        avg_cost += c / total_batch\n",
        "\n",
        "    print(\"Epoch: {} cost={:.4f}\".format(epoch+1,avg_cost))\n",
        "\n",
        "print(\"Model has completed {} Epochs of Training\".format(training_epochs))"
      ],
      "execution_count": 26,
      "outputs": [
        {
          "output_type": "stream",
          "text": [
            "Epoch: 1 cost=169.2870\n",
            "Epoch: 2 cost=40.6315\n",
            "Epoch: 3 cost=25.6345\n",
            "Epoch: 4 cost=17.7981\n",
            "Epoch: 5 cost=12.8121\n",
            "Epoch: 6 cost=9.4321\n",
            "Epoch: 7 cost=7.1042\n",
            "Epoch: 8 cost=5.2974\n",
            "Epoch: 9 cost=3.9862\n",
            "Epoch: 10 cost=3.0033\n",
            "Epoch: 11 cost=2.2396\n",
            "Epoch: 12 cost=1.6719\n",
            "Epoch: 13 cost=1.3550\n",
            "Epoch: 14 cost=1.0577\n",
            "Epoch: 15 cost=0.7259\n",
            "Model has completed 15 Epochs of Training\n"
          ],
          "name": "stdout"
        }
      ]
    },
    {
      "cell_type": "markdown",
      "metadata": {
        "id": "sTZzMqjSGgf8",
        "colab_type": "text"
      },
      "source": [
        "## Model Evaluation"
      ]
    },
    {
      "cell_type": "code",
      "metadata": {
        "id": "FzTXr_g1F1VW",
        "colab_type": "code",
        "colab": {}
      },
      "source": [
        "# Test model\n",
        "correct_predictions = tf.equal(tf.argmax(pred, 1), tf.argmax(y, 1))"
      ],
      "execution_count": 0,
      "outputs": []
    },
    {
      "cell_type": "code",
      "metadata": {
        "id": "TBnvjF1iGngO",
        "colab_type": "code",
        "colab": {
          "base_uri": "https://localhost:8080/",
          "height": 34
        },
        "outputId": "b717bb8d-8a61-4348-80cc-8d666a22d8df"
      },
      "source": [
        "print(correct_predictions[0])"
      ],
      "execution_count": 28,
      "outputs": [
        {
          "output_type": "stream",
          "text": [
            "Tensor(\"strided_slice:0\", shape=(), dtype=bool)\n"
          ],
          "name": "stdout"
        }
      ]
    },
    {
      "cell_type": "markdown",
      "metadata": {
        "id": "Rs0oCcmTGxGl",
        "colab_type": "text"
      },
      "source": [
        "In order to get a numerical value for our predictions we will need to use tf.cast to cast the Tensor of booleans back into a Tensor of Floating point values in order to take the mean of it."
      ]
    },
    {
      "cell_type": "code",
      "metadata": {
        "id": "izqD_pfLGphN",
        "colab_type": "code",
        "colab": {}
      },
      "source": [
        "correct_predictions = tf.cast(correct_predictions, \"float\")"
      ],
      "execution_count": 0,
      "outputs": []
    },
    {
      "cell_type": "code",
      "metadata": {
        "id": "Mnv37UNRG1sc",
        "colab_type": "code",
        "colab": {
          "base_uri": "https://localhost:8080/",
          "height": 34
        },
        "outputId": "8136000d-53d0-460f-ce17-fc23df2bd68e"
      },
      "source": [
        "print(correct_predictions[0])"
      ],
      "execution_count": 30,
      "outputs": [
        {
          "output_type": "stream",
          "text": [
            "Tensor(\"strided_slice_1:0\", shape=(), dtype=float32)\n"
          ],
          "name": "stdout"
        }
      ]
    },
    {
      "cell_type": "markdown",
      "metadata": {
        "id": "M4YOVQZVG7qj",
        "colab_type": "text"
      },
      "source": [
        "Now we use the tf.reduce_mean function in order to grab the mean of the elements across the tensor."
      ]
    },
    {
      "cell_type": "code",
      "metadata": {
        "id": "-mDk4awuG56f",
        "colab_type": "code",
        "colab": {}
      },
      "source": [
        "accuracy = tf.reduce_mean(correct_predictions)"
      ],
      "execution_count": 0,
      "outputs": []
    },
    {
      "cell_type": "code",
      "metadata": {
        "id": "c3wVkXukG-om",
        "colab_type": "code",
        "colab": {
          "base_uri": "https://localhost:8080/",
          "height": 34
        },
        "outputId": "17d85a6c-b113-4dd6-9971-dc4c9346fd23"
      },
      "source": [
        "type(accuracy)"
      ],
      "execution_count": 33,
      "outputs": [
        {
          "output_type": "execute_result",
          "data": {
            "text/plain": [
              "tensorflow.python.framework.ops.Tensor"
            ]
          },
          "metadata": {
            "tags": []
          },
          "execution_count": 33
        }
      ]
    },
    {
      "cell_type": "markdown",
      "metadata": {
        "id": "K5ecASk3HEtk",
        "colab_type": "text"
      },
      "source": [
        " Now we can call the MNIST test labels and images and evaluate our accuracy!"
      ]
    },
    {
      "cell_type": "code",
      "metadata": {
        "id": "jeRtkc8vHAEm",
        "colab_type": "code",
        "colab": {
          "base_uri": "https://localhost:8080/",
          "height": 136
        },
        "outputId": "8c225e59-73b7-4c29-c3d3-88aea20a01cf"
      },
      "source": [
        "mnist.test.labels"
      ],
      "execution_count": 34,
      "outputs": [
        {
          "output_type": "execute_result",
          "data": {
            "text/plain": [
              "array([[0., 0., 0., ..., 1., 0., 0.],\n",
              "       [0., 0., 1., ..., 0., 0., 0.],\n",
              "       [0., 1., 0., ..., 0., 0., 0.],\n",
              "       ...,\n",
              "       [0., 0., 0., ..., 0., 0., 0.],\n",
              "       [0., 0., 0., ..., 0., 0., 0.],\n",
              "       [0., 0., 0., ..., 0., 0., 0.]])"
            ]
          },
          "metadata": {
            "tags": []
          },
          "execution_count": 34
        }
      ]
    },
    {
      "cell_type": "code",
      "metadata": {
        "id": "dZXP2jcPHHH5",
        "colab_type": "code",
        "colab": {
          "base_uri": "https://localhost:8080/",
          "height": 136
        },
        "outputId": "b889de61-895f-4f0b-fe53-af6f8c54fc6d"
      },
      "source": [
        "mnist.test.images"
      ],
      "execution_count": 35,
      "outputs": [
        {
          "output_type": "execute_result",
          "data": {
            "text/plain": [
              "array([[0., 0., 0., ..., 0., 0., 0.],\n",
              "       [0., 0., 0., ..., 0., 0., 0.],\n",
              "       [0., 0., 0., ..., 0., 0., 0.],\n",
              "       ...,\n",
              "       [0., 0., 0., ..., 0., 0., 0.],\n",
              "       [0., 0., 0., ..., 0., 0., 0.],\n",
              "       [0., 0., 0., ..., 0., 0., 0.]], dtype=float32)"
            ]
          },
          "metadata": {
            "tags": []
          },
          "execution_count": 35
        }
      ]
    },
    {
      "cell_type": "markdown",
      "metadata": {
        "id": "zLn1ko4qHMs5",
        "colab_type": "text"
      },
      "source": [
        "The eval() method allows you to directly evaluates this tensor in a `Session` without needing to call tf.sess()"
      ]
    },
    {
      "cell_type": "code",
      "metadata": {
        "id": "69qcjMGCHJXA",
        "colab_type": "code",
        "colab": {
          "base_uri": "https://localhost:8080/",
          "height": 34
        },
        "outputId": "9980bd43-b669-4853-f248-60662a6d81b7"
      },
      "source": [
        "print(\"Accuracy:\", accuracy.eval({x: mnist.test.images, y: mnist.test.labels}))"
      ],
      "execution_count": 36,
      "outputs": [
        {
          "output_type": "stream",
          "text": [
            "Accuracy: 0.9442\n"
          ],
          "name": "stdout"
        }
      ]
    },
    {
      "cell_type": "markdown",
      "metadata": {
        "id": "pxO0jxs_HU0O",
        "colab_type": "text"
      },
      "source": [
        " Running for more training epochs with this data (around 20,000) can produce accuracy around 99%."
      ]
    }
  ]
}